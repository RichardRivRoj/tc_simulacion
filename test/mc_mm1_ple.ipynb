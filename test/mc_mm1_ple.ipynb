{
 "cells": [
  {
   "cell_type": "markdown",
   "metadata": {},
   "source": [
    "# Simulación Monte Carlo - Teoría de Colas M/M/s"
   ]
  },
  {
   "cell_type": "code",
   "execution_count": 1,
   "metadata": {},
   "outputs": [],
   "source": [
    "# Importación de las librerias\n",
    "\n",
    "import numpy as np \n",
    "import pandas as pd\n",
    "import matplotlib.pyplot as plt\n",
    "from queue import PriorityQueue"
   ]
  },
  {
   "cell_type": "code",
   "execution_count": 2,
   "metadata": {},
   "outputs": [],
   "source": [
    "# Parámetros del sistema\n",
    "\n",
    "lambda_llegadas = 7 / 60\n",
    "mu_servicios = 10 / 60\n",
    "num_servidores = 10\n",
    "num_clientes = 100"
   ]
  },
  {
   "cell_type": "code",
   "execution_count": 3,
   "metadata": {},
   "outputs": [],
   "source": [
    "# Simulacion de tiempos entre llegadas y tiempos de servicio\n",
    "\n",
    "tiempos_entre_llegadas = np.random.exponential(1/lambda_llegadas, num_clientes)\n",
    "tiempos_llegada = np.cumsum(tiempos_entre_llegadas)\n",
    "tiempos_servicio = np.random.exponential(1/mu_servicios, num_clientes)"
   ]
  },
  {
   "cell_type": "code",
   "execution_count": 4,
   "metadata": {},
   "outputs": [
    {
     "data": {
      "text/plain": [
       "array([7.11576571e-01, 1.93443183e+00, 6.30001829e+00, 2.54888044e+01,\n",
       "       3.60625820e+01, 6.87670382e+01, 7.17081520e+01, 7.43095978e+01,\n",
       "       9.23686158e+01, 1.13417099e+02, 1.20777340e+02, 1.21697038e+02,\n",
       "       1.22701348e+02, 1.50284375e+02, 1.80392060e+02, 1.83665518e+02,\n",
       "       1.88416600e+02, 1.96763415e+02, 2.14497469e+02, 2.57085263e+02,\n",
       "       2.65224472e+02, 2.76702361e+02, 2.83375566e+02, 2.84573109e+02,\n",
       "       2.85102619e+02, 2.87010490e+02, 3.06639521e+02, 3.06870207e+02,\n",
       "       3.15413293e+02, 3.37956678e+02, 3.68429954e+02, 3.73908290e+02,\n",
       "       3.85005686e+02, 3.92043731e+02, 3.95428370e+02, 3.98154182e+02,\n",
       "       4.12105731e+02, 4.12275478e+02, 4.12345981e+02, 4.16338652e+02,\n",
       "       4.26485401e+02, 4.35453352e+02, 4.36306948e+02, 4.51977819e+02,\n",
       "       4.53285860e+02, 4.67366282e+02, 4.76623950e+02, 4.82587110e+02,\n",
       "       5.16152948e+02, 5.27956774e+02, 5.44228296e+02, 5.57170797e+02,\n",
       "       5.61173383e+02, 5.72221900e+02, 5.77493979e+02, 5.82301877e+02,\n",
       "       5.87987383e+02, 5.89015251e+02, 6.06758720e+02, 6.10446297e+02,\n",
       "       6.29033555e+02, 6.56539670e+02, 6.79521060e+02, 6.96429281e+02,\n",
       "       7.04870662e+02, 7.11740098e+02, 7.15196423e+02, 7.21892613e+02,\n",
       "       7.25626399e+02, 7.35993349e+02, 7.58716661e+02, 7.62962564e+02,\n",
       "       7.83425993e+02, 7.88802354e+02, 7.96181065e+02, 7.99695230e+02,\n",
       "       8.01166300e+02, 8.01457127e+02, 8.02848679e+02, 8.03425713e+02,\n",
       "       8.06809862e+02, 8.09437212e+02, 8.16464407e+02, 8.20482501e+02,\n",
       "       8.22504552e+02, 8.24798447e+02, 8.25321275e+02, 8.30982833e+02,\n",
       "       8.38188877e+02, 8.42292686e+02, 8.45416437e+02, 8.53545757e+02,\n",
       "       8.53774453e+02, 8.60893942e+02, 8.68467113e+02, 8.68683253e+02,\n",
       "       8.72476907e+02, 8.74521660e+02, 8.75319786e+02, 8.83121455e+02])"
      ]
     },
     "execution_count": 4,
     "metadata": {},
     "output_type": "execute_result"
    }
   ],
   "source": [
    "tiempos_llegada"
   ]
  },
  {
   "cell_type": "code",
   "execution_count": 5,
   "metadata": {},
   "outputs": [
    {
     "data": {
      "text/plain": [
       "array([ 7.08154598,  3.70994511,  1.49008869,  7.65521096,  3.05317773,\n",
       "       19.13801601,  1.55649204,  3.11646549, 24.10728036,  7.46280322,\n",
       "        0.32654443,  7.9130117 ,  0.41923929,  0.40483288,  3.09206166,\n",
       "       19.13404214,  0.41086558,  4.8676449 , 10.17570887,  3.76456175,\n",
       "       21.20282001,  8.88921917,  7.38455584,  0.27190474, 14.30372674,\n",
       "       10.98137031,  2.29787111,  5.71088042,  2.87624856,  0.66731364,\n",
       "        2.17805921,  0.8726849 ,  4.40436151,  2.15960467,  6.49413884,\n",
       "        2.88760926, 16.4469365 ,  4.58986673,  2.47598858,  3.3569301 ,\n",
       "        1.70433006, 25.71931267,  8.72810798, 11.11772602,  4.04612909,\n",
       "        6.77212297,  4.89111724, 10.78473435, 16.20720331,  4.6273655 ,\n",
       "       11.10194241,  8.79550949,  7.35337284,  1.01418229,  5.67988917,\n",
       "        0.46088979,  3.41225577,  0.51650602,  1.70780988, 24.10609236,\n",
       "        4.38195377,  0.62653654,  1.71054322,  4.26136611, 13.50548984,\n",
       "       16.01235311,  5.49750941,  4.83357877,  3.45511671,  2.07627999,\n",
       "        5.73606233,  1.17460768,  6.08407638, 17.27503314, 10.44729224,\n",
       "       21.92171745,  9.84846746,  0.40922839,  1.58342397,  5.0075416 ,\n",
       "       10.78855279, 12.35283276, 22.3619244 ,  3.70647284,  2.65709296,\n",
       "       17.06554146, 15.36244161,  9.15358334,  1.51299282,  5.65384158,\n",
       "        7.6683056 ,  0.42581006,  5.24059425,  1.04738414, 14.16757733,\n",
       "       13.86816644, 10.12172024,  8.99904029,  6.48772723,  0.70151775])"
      ]
     },
     "execution_count": 5,
     "metadata": {},
     "output_type": "execute_result"
    }
   ],
   "source": [
    "tiempos_servicio"
   ]
  },
  {
   "cell_type": "code",
   "execution_count": 6,
   "metadata": {},
   "outputs": [],
   "source": [
    "# Inicializar Variables\n",
    "\n",
    "eventos_servidores = PriorityQueue() # Cola de prioridad para manejar la disponibilidad de servidores\n",
    "tiempo_inicio_servicio = []\n",
    "tiempo_espera = []\n",
    "tiempo_salida = []\n",
    "servidor_asignado = []\n",
    "\n",
    "# Inicializamos la cola con la disponibilidad de los servidores en tiempo 0\n",
    "\n",
    "for i in range(num_servidores):\n",
    "    eventos_servidores.put((0, i))\n",
    "    \n",
    "# Simulacion de eventos para cada cliente\n",
    "\n",
    "for i in range(num_clientes):\n",
    "    llegada = tiempos_llegada[i]\n",
    "    \n",
    "    tiempo_servidor_libre, id_servidor = eventos_servidores.get()\n",
    "    \n",
    "    # Determinar cuando se puede comenzar el servicio\n",
    "    \n",
    "    inicio_servicio = max(llegada, tiempo_servidor_libre)\n",
    "    espera = inicio_servicio - llegada\n",
    "    salida = inicio_servicio + tiempos_servicio[i]\n",
    "    \n",
    "    # Registrar los datos\n",
    "    tiempo_inicio_servicio.append(inicio_servicio)\n",
    "    tiempo_espera.append(espera)\n",
    "    tiempo_salida.append(salida)\n",
    "    servidor_asignado.append(id_servidor)\n",
    "    \n",
    "    # Actualizar la disponibilidad del servidor\n",
    "    eventos_servidores.put((salida, id_servidor))\n",
    "    \n",
    "# Crea el DataFrame con los resultados\n",
    "df_clientes = pd.DataFrame({\n",
    "    'Clientes': range(1, num_clientes + 1),\n",
    "    'Tiempo_Llegada': tiempos_llegada,\n",
    "    'Tiempo_Servicio': tiempos_servicio,\n",
    "    'Inicio_Servicio': tiempo_inicio_servicio,\n",
    "    'Tiempo_Espera': tiempo_espera,\n",
    "    'Tiempo_Salida': tiempo_salida,\n",
    "    'Tiempo_En_Sistema': np.array(tiempo_salida) - np.array(tiempos_llegada),\n",
    "    'Servidor_Asignado': servidor_asignado\n",
    "})   \n"
   ]
  },
  {
   "cell_type": "code",
   "execution_count": 7,
   "metadata": {},
   "outputs": [
    {
     "name": "stdout",
     "output_type": "stream",
     "text": [
      "Resumen de Clientes Simulados\n"
     ]
    },
    {
     "data": {
      "text/html": [
       "<div>\n",
       "<style scoped>\n",
       "    .dataframe tbody tr th:only-of-type {\n",
       "        vertical-align: middle;\n",
       "    }\n",
       "\n",
       "    .dataframe tbody tr th {\n",
       "        vertical-align: top;\n",
       "    }\n",
       "\n",
       "    .dataframe thead th {\n",
       "        text-align: right;\n",
       "    }\n",
       "</style>\n",
       "<table border=\"1\" class=\"dataframe\">\n",
       "  <thead>\n",
       "    <tr style=\"text-align: right;\">\n",
       "      <th></th>\n",
       "      <th>Clientes</th>\n",
       "      <th>Tiempo_Llegada</th>\n",
       "      <th>Tiempo_Servicio</th>\n",
       "      <th>Inicio_Servicio</th>\n",
       "      <th>Tiempo_Espera</th>\n",
       "      <th>Tiempo_Salida</th>\n",
       "      <th>Tiempo_En_Sistema</th>\n",
       "      <th>Servidor_Asignado</th>\n",
       "    </tr>\n",
       "  </thead>\n",
       "  <tbody>\n",
       "    <tr>\n",
       "      <th>0</th>\n",
       "      <td>1</td>\n",
       "      <td>0.711577</td>\n",
       "      <td>7.081546</td>\n",
       "      <td>0.711577</td>\n",
       "      <td>0.0</td>\n",
       "      <td>7.793123</td>\n",
       "      <td>7.081546</td>\n",
       "      <td>0</td>\n",
       "    </tr>\n",
       "    <tr>\n",
       "      <th>1</th>\n",
       "      <td>2</td>\n",
       "      <td>1.934432</td>\n",
       "      <td>3.709945</td>\n",
       "      <td>1.934432</td>\n",
       "      <td>0.0</td>\n",
       "      <td>5.644377</td>\n",
       "      <td>3.709945</td>\n",
       "      <td>1</td>\n",
       "    </tr>\n",
       "    <tr>\n",
       "      <th>2</th>\n",
       "      <td>3</td>\n",
       "      <td>6.300018</td>\n",
       "      <td>1.490089</td>\n",
       "      <td>6.300018</td>\n",
       "      <td>0.0</td>\n",
       "      <td>7.790107</td>\n",
       "      <td>1.490089</td>\n",
       "      <td>2</td>\n",
       "    </tr>\n",
       "    <tr>\n",
       "      <th>3</th>\n",
       "      <td>4</td>\n",
       "      <td>25.488804</td>\n",
       "      <td>7.655211</td>\n",
       "      <td>25.488804</td>\n",
       "      <td>0.0</td>\n",
       "      <td>33.144015</td>\n",
       "      <td>7.655211</td>\n",
       "      <td>3</td>\n",
       "    </tr>\n",
       "    <tr>\n",
       "      <th>4</th>\n",
       "      <td>5</td>\n",
       "      <td>36.062582</td>\n",
       "      <td>3.053178</td>\n",
       "      <td>36.062582</td>\n",
       "      <td>0.0</td>\n",
       "      <td>39.115760</td>\n",
       "      <td>3.053178</td>\n",
       "      <td>4</td>\n",
       "    </tr>\n",
       "    <tr>\n",
       "      <th>...</th>\n",
       "      <td>...</td>\n",
       "      <td>...</td>\n",
       "      <td>...</td>\n",
       "      <td>...</td>\n",
       "      <td>...</td>\n",
       "      <td>...</td>\n",
       "      <td>...</td>\n",
       "      <td>...</td>\n",
       "    </tr>\n",
       "    <tr>\n",
       "      <th>95</th>\n",
       "      <td>96</td>\n",
       "      <td>868.683253</td>\n",
       "      <td>13.868166</td>\n",
       "      <td>868.683253</td>\n",
       "      <td>0.0</td>\n",
       "      <td>882.551420</td>\n",
       "      <td>13.868166</td>\n",
       "      <td>8</td>\n",
       "    </tr>\n",
       "    <tr>\n",
       "      <th>96</th>\n",
       "      <td>97</td>\n",
       "      <td>872.476907</td>\n",
       "      <td>10.121720</td>\n",
       "      <td>872.476907</td>\n",
       "      <td>0.0</td>\n",
       "      <td>882.598627</td>\n",
       "      <td>10.121720</td>\n",
       "      <td>5</td>\n",
       "    </tr>\n",
       "    <tr>\n",
       "      <th>97</th>\n",
       "      <td>98</td>\n",
       "      <td>874.521660</td>\n",
       "      <td>8.999040</td>\n",
       "      <td>874.521660</td>\n",
       "      <td>0.0</td>\n",
       "      <td>883.520700</td>\n",
       "      <td>8.999040</td>\n",
       "      <td>7</td>\n",
       "    </tr>\n",
       "    <tr>\n",
       "      <th>98</th>\n",
       "      <td>99</td>\n",
       "      <td>875.319786</td>\n",
       "      <td>6.487727</td>\n",
       "      <td>875.319786</td>\n",
       "      <td>0.0</td>\n",
       "      <td>881.807513</td>\n",
       "      <td>6.487727</td>\n",
       "      <td>0</td>\n",
       "    </tr>\n",
       "    <tr>\n",
       "      <th>99</th>\n",
       "      <td>100</td>\n",
       "      <td>883.121455</td>\n",
       "      <td>0.701518</td>\n",
       "      <td>883.121455</td>\n",
       "      <td>0.0</td>\n",
       "      <td>883.822972</td>\n",
       "      <td>0.701518</td>\n",
       "      <td>1</td>\n",
       "    </tr>\n",
       "  </tbody>\n",
       "</table>\n",
       "<p>100 rows × 8 columns</p>\n",
       "</div>"
      ],
      "text/plain": [
       "    Clientes  Tiempo_Llegada  Tiempo_Servicio  Inicio_Servicio  Tiempo_Espera  \\\n",
       "0          1        0.711577         7.081546         0.711577            0.0   \n",
       "1          2        1.934432         3.709945         1.934432            0.0   \n",
       "2          3        6.300018         1.490089         6.300018            0.0   \n",
       "3          4       25.488804         7.655211        25.488804            0.0   \n",
       "4          5       36.062582         3.053178        36.062582            0.0   \n",
       "..       ...             ...              ...              ...            ...   \n",
       "95        96      868.683253        13.868166       868.683253            0.0   \n",
       "96        97      872.476907        10.121720       872.476907            0.0   \n",
       "97        98      874.521660         8.999040       874.521660            0.0   \n",
       "98        99      875.319786         6.487727       875.319786            0.0   \n",
       "99       100      883.121455         0.701518       883.121455            0.0   \n",
       "\n",
       "    Tiempo_Salida  Tiempo_En_Sistema  Servidor_Asignado  \n",
       "0        7.793123           7.081546                  0  \n",
       "1        5.644377           3.709945                  1  \n",
       "2        7.790107           1.490089                  2  \n",
       "3       33.144015           7.655211                  3  \n",
       "4       39.115760           3.053178                  4  \n",
       "..            ...                ...                ...  \n",
       "95     882.551420          13.868166                  8  \n",
       "96     882.598627          10.121720                  5  \n",
       "97     883.520700           8.999040                  7  \n",
       "98     881.807513           6.487727                  0  \n",
       "99     883.822972           0.701518                  1  \n",
       "\n",
       "[100 rows x 8 columns]"
      ]
     },
     "execution_count": 7,
     "metadata": {},
     "output_type": "execute_result"
    }
   ],
   "source": [
    "print('Resumen de Clientes Simulados')\n",
    "df_clientes"
   ]
  },
  {
   "cell_type": "code",
   "execution_count": 8,
   "metadata": {},
   "outputs": [
    {
     "name": "stdout",
     "output_type": "stream",
     "text": [
      "\n",
      "Métricas del Sistema de Colas M/M/10:\n",
      "Tiempo promedio de espera en cola: 0.00\n",
      "Tiempo promedio en el sistema: 7.13\n",
      "Utilización del sistema (servidores): 8.07%\n"
     ]
    }
   ],
   "source": [
    "# Métricas del sistema\n",
    "promedio_espera = df_clientes['Tiempo_Espera'].mean()\n",
    "promedio_en_sistema = df_clientes['Tiempo_En_Sistema'].mean()\n",
    "utilizacion_servidor = sum(df_clientes['Tiempo_Servicio']) / (num_servidores * df_clientes['Tiempo_Salida'].max())\n",
    "\n",
    "print(f\"\\nMétricas del Sistema de Colas M/M/{num_servidores}:\")\n",
    "print(f\"Tiempo promedio de espera en cola: {promedio_espera:.2f}\")\n",
    "print(f\"Tiempo promedio en el sistema: {promedio_en_sistema:.2f}\")\n",
    "print(f\"Utilización del sistema (servidores): {utilizacion_servidor:.2%}\")"
   ]
  },
  {
   "cell_type": "code",
   "execution_count": 9,
   "metadata": {},
   "outputs": [
    {
     "data": {
      "text/plain": [
       "0.7000000000000001"
      ]
     },
     "execution_count": 9,
     "metadata": {},
     "output_type": "execute_result"
    }
   ],
   "source": [
    "rho = lambda_llegadas / mu_servicios\n",
    "rho"
   ]
  },
  {
   "cell_type": "code",
   "execution_count": 10,
   "metadata": {},
   "outputs": [
    {
     "data": {
      "image/png": "[encoded data removed]",
      "text/plain": [
       "<Figure size 1000x600 with 1 Axes>"
      ]
     },
     "metadata": {},
     "output_type": "display_data"
    }
   ],
   "source": [
    "# Visualización de la carga de los servidores\n",
    "plt.figure(figsize=(10, 6))\n",
    "for s in range(num_servidores):\n",
    "    df_servidor = df_clientes[df_clientes['Servidor_Asignado'] == s]\n",
    "    plt.bar(df_servidor['Clientes'], df_servidor['Tiempo_En_Sistema'], label=f'Servidor {s}', alpha=0.7)\n",
    "\n",
    "plt.title('Carga de los Servidores por Cliente')\n",
    "plt.xlabel('Cliente')\n",
    "plt.ylabel('Tiempo en Sistema')\n",
    "plt.legend()\n",
    "plt.grid(True)\n",
    "plt.show()"
   ]
  }
 ],
 "metadata": {
  "kernelspec": {
   "display_name": "Python 3",
   "language": "python",
   "name": "python3"
  },
  "language_info": {
   "codemirror_mode": {
    "name": "ipython",
    "version": 3
   },
   "file_extension": ".py",
   "mimetype": "text/x-python",
   "name": "python",
   "nbconvert_exporter": "python",
   "pygments_lexer": "ipython3",
   "version": "3.12.3"
  }
 },
 "nbformat": 4,
 "nbformat_minor": 2
}
