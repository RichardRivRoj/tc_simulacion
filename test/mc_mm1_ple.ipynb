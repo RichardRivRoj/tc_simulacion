{
 "cells": [
  {
   "cell_type": "markdown",
   "metadata": {},
   "source": [
    "# Simulación Monte Carlo - Teoría de Colas M/M/s"
   ]
  },
  {
   "cell_type": "code",
   "execution_count": 1,
   "metadata": {},
   "outputs": [],
   "source": [
    "# Importación de las librerias\n",
    "\n",
    "import numpy as np \n",
    "import pandas as pd\n",
    "import matplotlib.pyplot as plt\n",
    "from queue import PriorityQueue"
   ]
  },
  {
   "cell_type": "code",
   "execution_count": 2,
   "metadata": {},
   "outputs": [],
   "source": [
    "# Parámetros del sistema\n",
    "\n",
    "lambda_llegadas = 7 / 60\n",
    "mu_servicios = 10 / 60\n",
    "num_servidores = 10\n",
    "num_clientes = 100"
   ]
  },
  {
   "cell_type": "code",
   "execution_count": 3,
   "metadata": {},
   "outputs": [],
   "source": [
    "# Simulacion de tiempos entre llegadas y tiempos de servicio\n",
    "\n",
    "tiempos_entre_llegadas = np.random.exponential(1/lambda_llegadas, num_clientes)\n",
    "tiempos_llegada = np.cumsum(tiempos_entre_llegadas)\n",
    "tiempos_servicio = np.random.exponential(1/mu_servicios, num_clientes)"
   ]
  },
  {
   "cell_type": "code",
   "execution_count": 4,
   "metadata": {},
   "outputs": [
    {
     "data": {
      "text/plain": [
       "array([3.13295305e-01, 1.40688299e+01, 1.80613259e+01, 2.14552851e+01,\n",
       "       2.48374716e+01, 3.57871794e+01, 4.07524723e+01, 4.54990705e+01,\n",
       "       5.51843020e+01, 5.87859368e+01, 7.49430257e+01, 7.85936305e+01,\n",
       "       9.36538567e+01, 1.13166417e+02, 1.29107293e+02, 1.59677247e+02,\n",
       "       1.72523136e+02, 1.84801982e+02, 1.90758047e+02, 2.10575191e+02,\n",
       "       2.25719933e+02, 2.26765802e+02, 2.26912226e+02, 2.36697853e+02,\n",
       "       2.55937856e+02, 2.69327449e+02, 2.73629776e+02, 2.77235547e+02,\n",
       "       2.91826441e+02, 2.94918638e+02, 2.95446232e+02, 2.96729479e+02,\n",
       "       3.09917313e+02, 3.25502917e+02, 3.26902706e+02, 3.27181403e+02,\n",
       "       3.39661578e+02, 3.41640280e+02, 3.45817760e+02, 3.65742620e+02,\n",
       "       3.79591766e+02, 4.00589294e+02, 4.09623574e+02, 4.12242827e+02,\n",
       "       4.16488689e+02, 4.18101650e+02, 4.21412306e+02, 4.22678257e+02,\n",
       "       4.31819710e+02, 4.60471276e+02, 5.00428222e+02, 5.09269869e+02,\n",
       "       5.16901994e+02, 5.44189008e+02, 5.46652597e+02, 5.56026122e+02,\n",
       "       5.60476980e+02, 5.79844652e+02, 5.80936982e+02, 5.89088077e+02,\n",
       "       5.90927096e+02, 5.97734916e+02, 5.99438758e+02, 6.09252213e+02,\n",
       "       6.12181508e+02, 6.16087648e+02, 6.19221850e+02, 6.22772929e+02,\n",
       "       6.32355455e+02, 6.45413237e+02, 6.58495971e+02, 6.65851200e+02,\n",
       "       6.65959415e+02, 6.70181958e+02, 6.77378891e+02, 6.78543051e+02,\n",
       "       6.78834472e+02, 6.90150039e+02, 6.90733698e+02, 6.94582463e+02,\n",
       "       7.00114585e+02, 7.05268643e+02, 7.10206491e+02, 7.10657173e+02,\n",
       "       7.12960336e+02, 7.14401312e+02, 7.24638711e+02, 7.30830140e+02,\n",
       "       7.35561266e+02, 7.45150648e+02, 7.48557551e+02, 7.52563061e+02,\n",
       "       7.59140453e+02, 7.85385069e+02, 7.89621426e+02, 7.90313292e+02,\n",
       "       8.00800714e+02, 8.01086079e+02, 8.05294833e+02, 8.22966859e+02])"
      ]
     },
     "execution_count": 4,
     "metadata": {},
     "output_type": "execute_result"
    }
   ],
   "source": [
    "tiempos_llegada"
   ]
  },
  {
   "cell_type": "code",
   "execution_count": 5,
   "metadata": {},
   "outputs": [
    {
     "data": {
      "text/plain": [
       "array([ 6.24795907,  5.15883673,  6.91917613,  1.10253134, 17.15010723,\n",
       "        8.1224123 ,  6.96622241,  6.94924474,  4.93717377,  0.81064743,\n",
       "        2.85904012,  1.7169263 ,  3.52594931,  0.6303305 ,  5.41052374,\n",
       "        8.24423059,  6.92435702,  5.78844403,  1.20731426,  4.03758014,\n",
       "        0.44510035,  5.60680938,  1.02406668,  5.85674548, 12.21510071,\n",
       "        2.51095456,  1.16589537,  7.08630314,  6.2308046 ,  4.36840929,\n",
       "       25.28343845,  8.55861738, 12.74867565, 26.98349215, 10.5418831 ,\n",
       "        5.63398232,  0.29134341,  0.14063281,  6.38220762, 19.93306614,\n",
       "        5.47221922,  6.16614578,  3.42579431,  4.79598867, 13.07933701,\n",
       "       10.10429361,  7.75225958, 14.58165118,  3.03236298,  7.26607489,\n",
       "        1.04993636,  7.32163172,  1.63192814,  3.64762293, 11.63514958,\n",
       "        3.08352777,  0.29772457,  1.48986154, 18.9093456 ,  3.85660923,\n",
       "        7.42017179, 13.38398928, 15.16155542,  2.65136331,  1.41811719,\n",
       "        1.75962288,  4.04200377, 22.22172563,  0.52677446,  3.22263783,\n",
       "        1.03431805, 11.18825756, 10.43705942,  3.44727054,  5.05155947,\n",
       "        4.99275082,  1.78081245,  5.73296688,  2.22855857,  2.6812279 ,\n",
       "       13.6575341 ,  2.63827176,  2.08988587,  9.77723463,  8.18277728,\n",
       "        0.88451858,  7.04278868,  4.61655253,  0.70270872, 16.74438539,\n",
       "        4.70364965,  6.83144341,  5.04060746,  0.73126541,  2.59063068,\n",
       "        3.74073163,  3.68049082, 12.79506352,  0.51306881,  1.11690296])"
      ]
     },
     "execution_count": 5,
     "metadata": {},
     "output_type": "execute_result"
    }
   ],
   "source": [
    "tiempos_servicio"
   ]
  },
  {
   "cell_type": "code",
   "execution_count": 6,
   "metadata": {},
   "outputs": [],
   "source": [
    "# Inicializar Variables\n",
    "\n",
    "eventos_servidores = PriorityQueue() # Cola de prioridad para manejar la disponibilidad de servidores\n",
    "tiempo_inicio_servicio = []\n",
    "tiempo_espera = []\n",
    "tiempo_salida = []\n",
    "servidor_asignado = []\n",
    "\n",
    "# Inicializamos la cola con la disponibilidad de los servidores en tiempo 0\n",
    "\n",
    "for i in range(num_servidores):\n",
    "    eventos_servidores.put((0, i))\n",
    "    \n",
    "# Simulacion de eventos para cada cliente\n",
    "\n",
    "for i in range(num_clientes):\n",
    "    llegada = tiempos_llegada[i]\n",
    "    \n",
    "    tiempo_servidor_libre, id_servidor = eventos_servidores.get()\n",
    "    \n",
    "    # Determinar cuando se puede comenzar el servicio\n",
    "    \n",
    "    inicio_servicio = max(llegada, tiempo_servidor_libre)\n",
    "    espera = inicio_servicio - llegada\n",
    "    salida = inicio_servicio + tiempos_servicio[i]\n",
    "    \n",
    "    # Registrar los datos\n",
    "    tiempo_inicio_servicio.append(inicio_servicio)\n",
    "    tiempo_espera.append(espera)\n",
    "    tiempo_salida.append(salida)\n",
    "    servidor_asignado.append(id_servidor)\n",
    "    \n",
    "    # Actualizar la disponibilidad del servidor\n",
    "    eventos_servidores.put((salida, id_servidor))\n",
    "    \n",
    "# Crea el DataFrame con los resultados\n",
    "df_clientes = pd.DataFrame({\n",
    "    'Clientes': range(1, num_clientes + 1),\n",
    "    'Tiempo_Llegada': tiempos_llegada,\n",
    "    'Tiempo_Servicio': tiempos_servicio,\n",
    "    'Inicio_Servicio': tiempo_inicio_servicio,\n",
    "    'Tiempo_Espera': tiempo_espera,\n",
    "    'Tiempo_Salida': tiempo_salida,\n",
    "    'Tiempo_En_Sistema': np.array(tiempo_salida) - np.array(tiempos_llegada),\n",
    "    'Servidor_Asignado': servidor_asignado\n",
    "})   \n"
   ]
  },
  {
   "cell_type": "code",
   "execution_count": 7,
   "metadata": {},
   "outputs": [
    {
     "name": "stdout",
     "output_type": "stream",
     "text": [
      "Resumen de Clientes Simulados\n"
     ]
    },
    {
     "data": {
      "text/html": [
       "<div>\n",
       "<style scoped>\n",
       "    .dataframe tbody tr th:only-of-type {\n",
       "        vertical-align: middle;\n",
       "    }\n",
       "\n",
       "    .dataframe tbody tr th {\n",
       "        vertical-align: top;\n",
       "    }\n",
       "\n",
       "    .dataframe thead th {\n",
       "        text-align: right;\n",
       "    }\n",
       "</style>\n",
       "<table border=\"1\" class=\"dataframe\">\n",
       "  <thead>\n",
       "    <tr style=\"text-align: right;\">\n",
       "      <th></th>\n",
       "      <th>Clientes</th>\n",
       "      <th>Tiempo_Llegada</th>\n",
       "      <th>Tiempo_Servicio</th>\n",
       "      <th>Inicio_Servicio</th>\n",
       "      <th>Tiempo_Espera</th>\n",
       "      <th>Tiempo_Salida</th>\n",
       "      <th>Tiempo_En_Sistema</th>\n",
       "      <th>Servidor_Asignado</th>\n",
       "    </tr>\n",
       "  </thead>\n",
       "  <tbody>\n",
       "    <tr>\n",
       "      <th>0</th>\n",
       "      <td>1</td>\n",
       "      <td>0.313295</td>\n",
       "      <td>6.247959</td>\n",
       "      <td>0.313295</td>\n",
       "      <td>0.0</td>\n",
       "      <td>6.561254</td>\n",
       "      <td>6.247959</td>\n",
       "      <td>0</td>\n",
       "    </tr>\n",
       "    <tr>\n",
       "      <th>1</th>\n",
       "      <td>2</td>\n",
       "      <td>14.068830</td>\n",
       "      <td>5.158837</td>\n",
       "      <td>14.068830</td>\n",
       "      <td>0.0</td>\n",
       "      <td>19.227667</td>\n",
       "      <td>5.158837</td>\n",
       "      <td>1</td>\n",
       "    </tr>\n",
       "    <tr>\n",
       "      <th>2</th>\n",
       "      <td>3</td>\n",
       "      <td>18.061326</td>\n",
       "      <td>6.919176</td>\n",
       "      <td>18.061326</td>\n",
       "      <td>0.0</td>\n",
       "      <td>24.980502</td>\n",
       "      <td>6.919176</td>\n",
       "      <td>2</td>\n",
       "    </tr>\n",
       "    <tr>\n",
       "      <th>3</th>\n",
       "      <td>4</td>\n",
       "      <td>21.455285</td>\n",
       "      <td>1.102531</td>\n",
       "      <td>21.455285</td>\n",
       "      <td>0.0</td>\n",
       "      <td>22.557816</td>\n",
       "      <td>1.102531</td>\n",
       "      <td>3</td>\n",
       "    </tr>\n",
       "    <tr>\n",
       "      <th>4</th>\n",
       "      <td>5</td>\n",
       "      <td>24.837472</td>\n",
       "      <td>17.150107</td>\n",
       "      <td>24.837472</td>\n",
       "      <td>0.0</td>\n",
       "      <td>41.987579</td>\n",
       "      <td>17.150107</td>\n",
       "      <td>4</td>\n",
       "    </tr>\n",
       "    <tr>\n",
       "      <th>...</th>\n",
       "      <td>...</td>\n",
       "      <td>...</td>\n",
       "      <td>...</td>\n",
       "      <td>...</td>\n",
       "      <td>...</td>\n",
       "      <td>...</td>\n",
       "      <td>...</td>\n",
       "      <td>...</td>\n",
       "    </tr>\n",
       "    <tr>\n",
       "      <th>95</th>\n",
       "      <td>96</td>\n",
       "      <td>790.313292</td>\n",
       "      <td>3.740732</td>\n",
       "      <td>790.313292</td>\n",
       "      <td>0.0</td>\n",
       "      <td>794.054024</td>\n",
       "      <td>3.740732</td>\n",
       "      <td>4</td>\n",
       "    </tr>\n",
       "    <tr>\n",
       "      <th>96</th>\n",
       "      <td>97</td>\n",
       "      <td>800.800714</td>\n",
       "      <td>3.680491</td>\n",
       "      <td>800.800714</td>\n",
       "      <td>0.0</td>\n",
       "      <td>804.481205</td>\n",
       "      <td>3.680491</td>\n",
       "      <td>7</td>\n",
       "    </tr>\n",
       "    <tr>\n",
       "      <th>97</th>\n",
       "      <td>98</td>\n",
       "      <td>801.086079</td>\n",
       "      <td>12.795064</td>\n",
       "      <td>801.086079</td>\n",
       "      <td>0.0</td>\n",
       "      <td>813.881142</td>\n",
       "      <td>12.795064</td>\n",
       "      <td>2</td>\n",
       "    </tr>\n",
       "    <tr>\n",
       "      <th>98</th>\n",
       "      <td>99</td>\n",
       "      <td>805.294833</td>\n",
       "      <td>0.513069</td>\n",
       "      <td>805.294833</td>\n",
       "      <td>0.0</td>\n",
       "      <td>805.807902</td>\n",
       "      <td>0.513069</td>\n",
       "      <td>3</td>\n",
       "    </tr>\n",
       "    <tr>\n",
       "      <th>99</th>\n",
       "      <td>100</td>\n",
       "      <td>822.966859</td>\n",
       "      <td>1.116903</td>\n",
       "      <td>822.966859</td>\n",
       "      <td>0.0</td>\n",
       "      <td>824.083762</td>\n",
       "      <td>1.116903</td>\n",
       "      <td>6</td>\n",
       "    </tr>\n",
       "  </tbody>\n",
       "</table>\n",
       "<p>100 rows × 8 columns</p>\n",
       "</div>"
      ],
      "text/plain": [
       "    Clientes  Tiempo_Llegada  Tiempo_Servicio  Inicio_Servicio  Tiempo_Espera  \\\n",
       "0          1        0.313295         6.247959         0.313295            0.0   \n",
       "1          2       14.068830         5.158837        14.068830            0.0   \n",
       "2          3       18.061326         6.919176        18.061326            0.0   \n",
       "3          4       21.455285         1.102531        21.455285            0.0   \n",
       "4          5       24.837472        17.150107        24.837472            0.0   \n",
       "..       ...             ...              ...              ...            ...   \n",
       "95        96      790.313292         3.740732       790.313292            0.0   \n",
       "96        97      800.800714         3.680491       800.800714            0.0   \n",
       "97        98      801.086079        12.795064       801.086079            0.0   \n",
       "98        99      805.294833         0.513069       805.294833            0.0   \n",
       "99       100      822.966859         1.116903       822.966859            0.0   \n",
       "\n",
       "    Tiempo_Salida  Tiempo_En_Sistema  Servidor_Asignado  \n",
       "0        6.561254           6.247959                  0  \n",
       "1       19.227667           5.158837                  1  \n",
       "2       24.980502           6.919176                  2  \n",
       "3       22.557816           1.102531                  3  \n",
       "4       41.987579          17.150107                  4  \n",
       "..            ...                ...                ...  \n",
       "95     794.054024           3.740732                  4  \n",
       "96     804.481205           3.680491                  7  \n",
       "97     813.881142          12.795064                  2  \n",
       "98     805.807902           0.513069                  3  \n",
       "99     824.083762           1.116903                  6  \n",
       "\n",
       "[100 rows x 8 columns]"
      ]
     },
     "execution_count": 7,
     "metadata": {},
     "output_type": "execute_result"
    }
   ],
   "source": [
    "print('Resumen de Clientes Simulados')\n",
    "df_clientes"
   ]
  },
  {
   "cell_type": "code",
   "execution_count": 8,
   "metadata": {},
   "outputs": [
    {
     "name": "stdout",
     "output_type": "stream",
     "text": [
      "\n",
      "Métricas del Sistema de Colas M/M/10:\n",
      "Tiempo promedio de espera en cola: 0.00\n",
      "Tiempo promedio en el sistema: 6.25\n",
      "Utilización del sistema (servidores): 7.58%\n"
     ]
    }
   ],
   "source": [
    "# Métricas del sistema\n",
    "promedio_espera = df_clientes['Tiempo_Espera'].mean()\n",
    "promedio_en_sistema = df_clientes['Tiempo_En_Sistema'].mean()\n",
    "utilizacion_servidor = sum(df_clientes['Tiempo_Servicio']) / (num_servidores * df_clientes['Tiempo_Salida'].max())\n",
    "\n",
    "print(f\"\\nMétricas del Sistema de Colas M/M/{num_servidores}:\")\n",
    "print(f\"Tiempo promedio de espera en cola: {promedio_espera:.2f}\")\n",
    "print(f\"Tiempo promedio en el sistema: {promedio_en_sistema:.2f}\")\n",
    "print(f\"Utilización del sistema (servidores): {utilizacion_servidor:.2%}\")"
   ]
  },
  {
   "cell_type": "code",
   "execution_count": 9,
   "metadata": {},
   "outputs": [
    {
     "data": {
      "text/plain": [
       "0.7000000000000001"
      ]
     },
     "execution_count": 9,
     "metadata": {},
     "output_type": "execute_result"
    }
   ],
   "source": [
    "rho = lambda_llegadas / mu_servicios\n",
    "rho"
   ]
  },
  {
   "cell_type": "code",
   "execution_count": 10,
   "metadata": {},
   "outputs": [
    {
     "data": {
      "image/png": "[encoded data removed]",
      "text/plain": [
       "<Figure size 1000x600 with 1 Axes>"
      ]
     },
     "metadata": {},
     "output_type": "display_data"
    }
   ],
   "source": [
    "# Visualización de la carga de los servidores\n",
    "plt.figure(figsize=(10, 6))\n",
    "for s in range(num_servidores):\n",
    "    df_servidor = df_clientes[df_clientes['Servidor_Asignado'] == s]\n",
    "    plt.bar(df_servidor['Clientes'], df_servidor['Tiempo_En_Sistema'], label=f'Servidor {s}', alpha=0.7)\n",
    "\n",
    "plt.title('Carga de los Servidores por Cliente')\n",
    "plt.xlabel('Cliente')\n",
    "plt.ylabel('Tiempo en Sistema')\n",
    "plt.legend()\n",
    "plt.grid(True)\n",
    "plt.show()"
   ]
  }
 ],
 "metadata": {
  "kernelspec": {
   "display_name": "Python 3",
   "language": "python",
   "name": "python3"
  },
  "language_info": {
   "codemirror_mode": {
    "name": "ipython",
    "version": 3
   },
   "file_extension": ".py",
   "mimetype": "text/x-python",
   "name": "python",
   "nbconvert_exporter": "python",
   "pygments_lexer": "ipython3",
   "version": "3.12.3"
  }
 },
 "nbformat": 4,
 "nbformat_minor": 2
}
